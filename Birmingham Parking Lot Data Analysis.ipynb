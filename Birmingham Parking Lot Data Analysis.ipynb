{
 "cells": [
  {
   "cell_type": "code",
   "execution_count": 2,
   "id": "0abb3ea3",
   "metadata": {},
   "outputs": [],
   "source": [
    "import numpy as np\n",
    "import pandas as pd\n",
    "import seaborn as sns\n",
    "import matplotlib.pyplot as plt\n",
    "from scipy import stats"
   ]
  },
  {
   "cell_type": "code",
   "execution_count": 4,
   "id": "1535cd06",
   "metadata": {},
   "outputs": [],
   "source": [
    "# Storing the data in the dataframe\n",
    "df = pd.read_excel('UK_Vaccine.xlsx')"
   ]
  },
  {
   "cell_type": "code",
   "execution_count": 5,
   "id": "3c029ba3",
   "metadata": {},
   "outputs": [
    {
     "data": {
      "text/html": [
       "<div>\n",
       "<style scoped>\n",
       "    .dataframe tbody tr th:only-of-type {\n",
       "        vertical-align: middle;\n",
       "    }\n",
       "\n",
       "    .dataframe tbody tr th {\n",
       "        vertical-align: top;\n",
       "    }\n",
       "\n",
       "    .dataframe thead th {\n",
       "        text-align: right;\n",
       "    }\n",
       "</style>\n",
       "<table border=\"1\" class=\"dataframe\">\n",
       "  <thead>\n",
       "    <tr style=\"text-align: right;\">\n",
       "      <th></th>\n",
       "      <th>areaName</th>\n",
       "      <th>areaCode</th>\n",
       "      <th>year</th>\n",
       "      <th>month</th>\n",
       "      <th>Quarter</th>\n",
       "      <th>day</th>\n",
       "      <th>WorkingDay</th>\n",
       "      <th>FirstDose</th>\n",
       "      <th>SecondDose</th>\n",
       "      <th>ThirdDose</th>\n",
       "    </tr>\n",
       "  </thead>\n",
       "  <tbody>\n",
       "    <tr>\n",
       "      <th>0</th>\n",
       "      <td>England</td>\n",
       "      <td>E92000001</td>\n",
       "      <td>2022.0</td>\n",
       "      <td>5</td>\n",
       "      <td>Q2</td>\n",
       "      <td>Mon</td>\n",
       "      <td>Yes</td>\n",
       "      <td>3034.0</td>\n",
       "      <td>3857.0</td>\n",
       "      <td>8747.0</td>\n",
       "    </tr>\n",
       "    <tr>\n",
       "      <th>1</th>\n",
       "      <td>England</td>\n",
       "      <td>E92000001</td>\n",
       "      <td>2022.0</td>\n",
       "      <td>5</td>\n",
       "      <td>Q2</td>\n",
       "      <td>Sun</td>\n",
       "      <td>No</td>\n",
       "      <td>5331.0</td>\n",
       "      <td>3330.0</td>\n",
       "      <td>4767.0</td>\n",
       "    </tr>\n",
       "    <tr>\n",
       "      <th>2</th>\n",
       "      <td>England</td>\n",
       "      <td>E92000001</td>\n",
       "      <td>2022.0</td>\n",
       "      <td>5</td>\n",
       "      <td>Q2</td>\n",
       "      <td>Sat</td>\n",
       "      <td>No</td>\n",
       "      <td>13852.0</td>\n",
       "      <td>9759.0</td>\n",
       "      <td>12335.0</td>\n",
       "    </tr>\n",
       "    <tr>\n",
       "      <th>3</th>\n",
       "      <td>England</td>\n",
       "      <td>E92000001</td>\n",
       "      <td>2022.0</td>\n",
       "      <td>5</td>\n",
       "      <td>Q2</td>\n",
       "      <td>Fri</td>\n",
       "      <td>Yes</td>\n",
       "      <td>5818.0</td>\n",
       "      <td>5529.0</td>\n",
       "      <td>10692.0</td>\n",
       "    </tr>\n",
       "    <tr>\n",
       "      <th>4</th>\n",
       "      <td>England</td>\n",
       "      <td>E92000001</td>\n",
       "      <td>2022.0</td>\n",
       "      <td>5</td>\n",
       "      <td>Q2</td>\n",
       "      <td>Thu</td>\n",
       "      <td>Yes</td>\n",
       "      <td>8439.0</td>\n",
       "      <td>6968.0</td>\n",
       "      <td>11701.0</td>\n",
       "    </tr>\n",
       "  </tbody>\n",
       "</table>\n",
       "</div>"
      ],
      "text/plain": [
       "  areaName   areaCode    year  month Quarter  day WorkingDay  FirstDose  \\\n",
       "0  England  E92000001  2022.0      5      Q2  Mon        Yes     3034.0   \n",
       "1  England  E92000001  2022.0      5      Q2  Sun         No     5331.0   \n",
       "2  England  E92000001  2022.0      5      Q2  Sat         No    13852.0   \n",
       "3  England  E92000001  2022.0      5      Q2  Fri        Yes     5818.0   \n",
       "4  England  E92000001  2022.0      5      Q2  Thu        Yes     8439.0   \n",
       "\n",
       "   SecondDose  ThirdDose  \n",
       "0      3857.0     8747.0  \n",
       "1      3330.0     4767.0  \n",
       "2      9759.0    12335.0  \n",
       "3      5529.0    10692.0  \n",
       "4      6968.0    11701.0  "
      ]
     },
     "execution_count": 5,
     "metadata": {},
     "output_type": "execute_result"
    }
   ],
   "source": [
    "df.head()"
   ]
  },
  {
   "cell_type": "code",
   "execution_count": 6,
   "id": "da922ff3",
   "metadata": {},
   "outputs": [
    {
     "data": {
      "text/plain": [
       "(904, 10)"
      ]
     },
     "execution_count": 6,
     "metadata": {},
     "output_type": "execute_result"
    }
   ],
   "source": [
    "# finding the number of rows and columns and the the number of\n",
    "#total elements\n",
    "df.size\n",
    "df.shape"
   ]
  },
  {
   "cell_type": "markdown",
   "id": "bb2e02e5",
   "metadata": {},
   "source": [
    "# Question 1: Generate descriptive statistics for the dataset, and comment on the main trends."
   ]
  },
  {
   "cell_type": "code",
   "execution_count": 7,
   "id": "f12e99e4",
   "metadata": {},
   "outputs": [
    {
     "data": {
      "text/html": [
       "<div>\n",
       "<style scoped>\n",
       "    .dataframe tbody tr th:only-of-type {\n",
       "        vertical-align: middle;\n",
       "    }\n",
       "\n",
       "    .dataframe tbody tr th {\n",
       "        vertical-align: top;\n",
       "    }\n",
       "\n",
       "    .dataframe thead th {\n",
       "        text-align: right;\n",
       "    }\n",
       "</style>\n",
       "<table border=\"1\" class=\"dataframe\">\n",
       "  <thead>\n",
       "    <tr style=\"text-align: right;\">\n",
       "      <th></th>\n",
       "      <th>year</th>\n",
       "      <th>month</th>\n",
       "      <th>FirstDose</th>\n",
       "      <th>SecondDose</th>\n",
       "      <th>ThirdDose</th>\n",
       "    </tr>\n",
       "  </thead>\n",
       "  <tbody>\n",
       "    <tr>\n",
       "      <th>count</th>\n",
       "      <td>903.000000</td>\n",
       "      <td>904.000000</td>\n",
       "      <td>900.000000</td>\n",
       "      <td>901.000000</td>\n",
       "      <td>898.000000</td>\n",
       "    </tr>\n",
       "    <tr>\n",
       "      <th>mean</th>\n",
       "      <td>2021.625692</td>\n",
       "      <td>5.946903</td>\n",
       "      <td>4994.323333</td>\n",
       "      <td>5574.125416</td>\n",
       "      <td>42529.570156</td>\n",
       "    </tr>\n",
       "    <tr>\n",
       "      <th>std</th>\n",
       "      <td>0.484212</td>\n",
       "      <td>4.146467</td>\n",
       "      <td>9651.335670</td>\n",
       "      <td>9174.101390</td>\n",
       "      <td>104877.579915</td>\n",
       "    </tr>\n",
       "    <tr>\n",
       "      <th>min</th>\n",
       "      <td>2021.000000</td>\n",
       "      <td>1.000000</td>\n",
       "      <td>0.000000</td>\n",
       "      <td>0.000000</td>\n",
       "      <td>0.000000</td>\n",
       "    </tr>\n",
       "    <tr>\n",
       "      <th>25%</th>\n",
       "      <td>2021.000000</td>\n",
       "      <td>2.000000</td>\n",
       "      <td>338.500000</td>\n",
       "      <td>478.000000</td>\n",
       "      <td>1313.500000</td>\n",
       "    </tr>\n",
       "    <tr>\n",
       "      <th>50%</th>\n",
       "      <td>2022.000000</td>\n",
       "      <td>4.000000</td>\n",
       "      <td>876.500000</td>\n",
       "      <td>971.000000</td>\n",
       "      <td>6992.000000</td>\n",
       "    </tr>\n",
       "    <tr>\n",
       "      <th>75%</th>\n",
       "      <td>2022.000000</td>\n",
       "      <td>11.000000</td>\n",
       "      <td>3653.250000</td>\n",
       "      <td>5770.000000</td>\n",
       "      <td>23464.750000</td>\n",
       "    </tr>\n",
       "    <tr>\n",
       "      <th>max</th>\n",
       "      <td>2022.000000</td>\n",
       "      <td>12.000000</td>\n",
       "      <td>115551.000000</td>\n",
       "      <td>48491.000000</td>\n",
       "      <td>830403.000000</td>\n",
       "    </tr>\n",
       "  </tbody>\n",
       "</table>\n",
       "</div>"
      ],
      "text/plain": [
       "              year       month      FirstDose    SecondDose      ThirdDose\n",
       "count   903.000000  904.000000     900.000000    901.000000     898.000000\n",
       "mean   2021.625692    5.946903    4994.323333   5574.125416   42529.570156\n",
       "std       0.484212    4.146467    9651.335670   9174.101390  104877.579915\n",
       "min    2021.000000    1.000000       0.000000      0.000000       0.000000\n",
       "25%    2021.000000    2.000000     338.500000    478.000000    1313.500000\n",
       "50%    2022.000000    4.000000     876.500000    971.000000    6992.000000\n",
       "75%    2022.000000   11.000000    3653.250000   5770.000000   23464.750000\n",
       "max    2022.000000   12.000000  115551.000000  48491.000000  830403.000000"
      ]
     },
     "execution_count": 7,
     "metadata": {},
     "output_type": "execute_result"
    }
   ],
   "source": [
    "#Generating the descriptive statistics for the data\n",
    "df.describe()"
   ]
  },
  {
   "cell_type": "markdown",
   "id": "ecf35b25",
   "metadata": {},
   "source": [
    "# The dataset spans from 2021 to 2022, showcasing monthly fluctuations in vaccination activities. Notably, the mean counts for the first, second, and third doses have increased over time, with the highest counts observed in 2022. The variability in dose counts is evident, as reflected in substantial standard deviations and interquartile ranges. For the first dose, the mean count is 4994.32 (SD: 9651.34), ranging from 0 to 115,551. The second dose exhibits a mean count of 5574.13 (SD: 9174.10), ranging from 0 to 48,491. The third dose has a mean count of 42,529.57 (SD: 104,877.58), ranging from 0 to 830,403. These trends underscore the dynamic nature of vaccination efforts and the evolving patterns in dose administration."
   ]
  },
  {
   "cell_type": "markdown",
   "id": "0b3ad66e",
   "metadata": {},
   "source": [
    "# Question 2: Check any records with missing values and handle the missing data as appropriate"
   ]
  },
  {
   "cell_type": "code",
   "execution_count": 8,
   "id": "f430761d",
   "metadata": {},
   "outputs": [
    {
     "name": "stdout",
     "output_type": "stream",
     "text": [
      "<class 'pandas.core.frame.DataFrame'>\n",
      "RangeIndex: 904 entries, 0 to 903\n",
      "Data columns (total 10 columns):\n",
      " #   Column      Non-Null Count  Dtype  \n",
      "---  ------      --------------  -----  \n",
      " 0   areaName    904 non-null    object \n",
      " 1   areaCode    904 non-null    object \n",
      " 2   year        903 non-null    float64\n",
      " 3   month       904 non-null    int64  \n",
      " 4   Quarter     903 non-null    object \n",
      " 5   day         903 non-null    object \n",
      " 6   WorkingDay  902 non-null    object \n",
      " 7   FirstDose   900 non-null    float64\n",
      " 8   SecondDose  901 non-null    float64\n",
      " 9   ThirdDose   898 non-null    float64\n",
      "dtypes: float64(4), int64(1), object(5)\n",
      "memory usage: 70.8+ KB\n"
     ]
    }
   ],
   "source": [
    "# Finding missing values and dealing with them\n",
    "df.info()"
   ]
  },
  {
   "cell_type": "markdown",
   "id": "98923a3b",
   "metadata": {},
   "source": [
    "# There are 18 missing values in total. The rows and columns containing these values will be dropped"
   ]
  },
  {
   "cell_type": "code",
   "execution_count": 9,
   "id": "fe17cd17",
   "metadata": {},
   "outputs": [],
   "source": [
    "# removes rows with any missing values\n",
    "df.dropna(inplace=True)"
   ]
  },
  {
   "cell_type": "code",
   "execution_count": 10,
   "id": "e75bac45",
   "metadata": {},
   "outputs": [
    {
     "data": {
      "text/html": [
       "<div>\n",
       "<style scoped>\n",
       "    .dataframe tbody tr th:only-of-type {\n",
       "        vertical-align: middle;\n",
       "    }\n",
       "\n",
       "    .dataframe tbody tr th {\n",
       "        vertical-align: top;\n",
       "    }\n",
       "\n",
       "    .dataframe thead th {\n",
       "        text-align: right;\n",
       "    }\n",
       "</style>\n",
       "<table border=\"1\" class=\"dataframe\">\n",
       "  <thead>\n",
       "    <tr style=\"text-align: right;\">\n",
       "      <th></th>\n",
       "      <th>year</th>\n",
       "      <th>month</th>\n",
       "      <th>FirstDose</th>\n",
       "      <th>SecondDose</th>\n",
       "      <th>ThirdDose</th>\n",
       "    </tr>\n",
       "  </thead>\n",
       "  <tbody>\n",
       "    <tr>\n",
       "      <th>count</th>\n",
       "      <td>890.000000</td>\n",
       "      <td>890.000000</td>\n",
       "      <td>890.000000</td>\n",
       "      <td>890.000000</td>\n",
       "      <td>890.000000</td>\n",
       "    </tr>\n",
       "    <tr>\n",
       "      <th>mean</th>\n",
       "      <td>2021.631461</td>\n",
       "      <td>5.903371</td>\n",
       "      <td>5007.202247</td>\n",
       "      <td>5598.837079</td>\n",
       "      <td>42851.678652</td>\n",
       "    </tr>\n",
       "    <tr>\n",
       "      <th>std</th>\n",
       "      <td>0.482680</td>\n",
       "      <td>4.144153</td>\n",
       "      <td>9663.780953</td>\n",
       "      <td>9179.644516</td>\n",
       "      <td>105291.330792</td>\n",
       "    </tr>\n",
       "    <tr>\n",
       "      <th>min</th>\n",
       "      <td>2021.000000</td>\n",
       "      <td>1.000000</td>\n",
       "      <td>0.000000</td>\n",
       "      <td>0.000000</td>\n",
       "      <td>0.000000</td>\n",
       "    </tr>\n",
       "    <tr>\n",
       "      <th>25%</th>\n",
       "      <td>2021.000000</td>\n",
       "      <td>2.000000</td>\n",
       "      <td>340.000000</td>\n",
       "      <td>476.500000</td>\n",
       "      <td>1318.750000</td>\n",
       "    </tr>\n",
       "    <tr>\n",
       "      <th>50%</th>\n",
       "      <td>2022.000000</td>\n",
       "      <td>4.000000</td>\n",
       "      <td>882.000000</td>\n",
       "      <td>978.500000</td>\n",
       "      <td>7185.000000</td>\n",
       "    </tr>\n",
       "    <tr>\n",
       "      <th>75%</th>\n",
       "      <td>2022.000000</td>\n",
       "      <td>11.000000</td>\n",
       "      <td>3653.750000</td>\n",
       "      <td>6163.250000</td>\n",
       "      <td>23817.500000</td>\n",
       "    </tr>\n",
       "    <tr>\n",
       "      <th>max</th>\n",
       "      <td>2022.000000</td>\n",
       "      <td>12.000000</td>\n",
       "      <td>115551.000000</td>\n",
       "      <td>48491.000000</td>\n",
       "      <td>830403.000000</td>\n",
       "    </tr>\n",
       "  </tbody>\n",
       "</table>\n",
       "</div>"
      ],
      "text/plain": [
       "              year       month      FirstDose    SecondDose      ThirdDose\n",
       "count   890.000000  890.000000     890.000000    890.000000     890.000000\n",
       "mean   2021.631461    5.903371    5007.202247   5598.837079   42851.678652\n",
       "std       0.482680    4.144153    9663.780953   9179.644516  105291.330792\n",
       "min    2021.000000    1.000000       0.000000      0.000000       0.000000\n",
       "25%    2021.000000    2.000000     340.000000    476.500000    1318.750000\n",
       "50%    2022.000000    4.000000     882.000000    978.500000    7185.000000\n",
       "75%    2022.000000   11.000000    3653.750000   6163.250000   23817.500000\n",
       "max    2022.000000   12.000000  115551.000000  48491.000000  830403.000000"
      ]
     },
     "execution_count": 10,
     "metadata": {},
     "output_type": "execute_result"
    }
   ],
   "source": [
    "# Calculating the descriptive statistics for the revised dataset \n",
    "#when the values are dropped\n",
    "df.describe()"
   ]
  },
  {
   "cell_type": "markdown",
   "id": "38ae4a8c",
   "metadata": {},
   "source": [
    "# Question 3A Distribution of one or more continuous variables"
   ]
  },
  {
   "cell_type": "code",
   "execution_count": 11,
   "id": "1bd14a25",
   "metadata": {},
   "outputs": [
    {
     "data": {
      "image/png": "[encoded data removed]",
      "text/plain": [
       "<Figure size 1000x600 with 1 Axes>"
      ]
     },
     "metadata": {},
     "output_type": "display_data"
    }
   ],
   "source": [
    "# Graph 1\n",
    "\n",
    "# Plot a bigger box plot for 'FirstDose'\n",
    "plt.figure(figsize=(10, 6))\n",
    "plt.boxplot(df['FirstDose'], vert=True)\n",
    "plt.title('Box Plot of First Dose')\n",
    "plt.xlabel('First Dose Count')\n",
    "plt.show()"
   ]
  },
  {
   "cell_type": "markdown",
   "id": "476a74a7",
   "metadata": {},
   "source": [
    "# The minimum value is 0 and the maximum value is around 10,000. The median is around 1,000. The data has an outlier and the value of that outlier is 120,000. "
   ]
  },
  {
   "cell_type": "code",
   "execution_count": 12,
   "id": "a7db0ced",
   "metadata": {},
   "outputs": [
    {
     "data": {
      "image/png": "[encoded data removed]",
      "text/plain": [
       "<Figure size 1000x600 with 1 Axes>"
      ]
     },
     "metadata": {},
     "output_type": "display_data"
    }
   ],
   "source": [
    "# Graph 2\n",
    "\n",
    "# Plot a bigger box plot for 'SecondDose'\n",
    "plt.figure(figsize=(10, 6))\n",
    "plt.boxplot(df['SecondDose'], vert=True)\n",
    "plt.title('Box Plot of Second Dose')\n",
    "plt.xlabel('Second Dose Count')\n",
    "plt.show()"
   ]
  },
  {
   "cell_type": "markdown",
   "id": "16f344be",
   "metadata": {},
   "source": [
    "# The minimum value is 0 and the maximum value is around 15,000. The middle value (Median) is around 1000. The data has few outliers at a value of 50,000\n",
    "\n",
    "# Conclusion:\n",
    "# By looking at Graph 1 and 2 it can be concluded that the range for second dose is higher than the range for the first dose"
   ]
  },
  {
   "cell_type": "markdown",
   "id": "aa5059fc",
   "metadata": {},
   "source": [
    "# Question 3B : the relationship of a pair of continuous variables"
   ]
  },
  {
   "cell_type": "code",
   "execution_count": 20,
   "id": "43b2fa19",
   "metadata": {},
   "outputs": [
    {
     "data": {
      "image/png": "[encoded data removed]",
      "text/plain": [
       "<Figure size 1000x600 with 1 Axes>"
      ]
     },
     "metadata": {},
     "output_type": "display_data"
    }
   ],
   "source": [
    "\n",
    "# Set the style for a cleaner look\n",
    "sns.set(style=\"whitegrid\")\n",
    "\n",
    "# Plotting scatter plot without regression line\n",
    "plt.figure(figsize=(10, 6))\n",
    "sns.scatterplot(x='FirstDose', y='SecondDose', data=df, alpha=0.5)\n",
    "plt.title('Scatter Plot of FirstDose vs. SecondDose')\n",
    "plt.xlabel('FirstDose')\n",
    "plt.ylabel('SecondDose')\n",
    "plt.show()\n"
   ]
  },
  {
   "cell_type": "markdown",
   "id": "75f56a48",
   "metadata": {},
   "source": [
    "# It can be seen from the above scatter plot that there is a positive correlation between the first dose and the second dose. To simplify, people who have taken the first dose have also taken the second dose."
   ]
  },
  {
   "cell_type": "markdown",
   "id": "b7df67b0",
   "metadata": {},
   "source": [
    "# Question 3C: Relationship between a categorical variable and a continuous variable"
   ]
  },
  {
   "cell_type": "code",
   "execution_count": 85,
   "id": "851e3235",
   "metadata": {
    "scrolled": true
   },
   "outputs": [
    {
     "data": {
      "image/png": "[encoded data removed]",
      "text/plain": [
       "<Figure size 1200x800 with 1 Axes>"
      ]
     },
     "metadata": {},
     "output_type": "display_data"
    }
   ],
   "source": [
    "\n",
    "sns.set(style=\"whitegrid\")\n",
    "\n",
    "# Plotting bar graph to visualize the association\n",
    "plt.figure(figsize=(12, 8))\n",
    "sns.barplot(x='areaName', y='FirstDose', data=df, palette='Blues')\n",
    "plt.title('Association Between Region and FirstDose')\n",
    "plt.xlabel('Region')\n",
    "plt.ylabel('Average FirstDose')\n",
    "plt.xticks(rotation=45, ha='right')\n",
    "plt.show()\n"
   ]
  },
  {
   "cell_type": "markdown",
   "id": "0e1fbb27",
   "metadata": {},
   "source": [
    "# The above graph clearly exibits that the highest average of first doses was in England, followed by Scotland, Wales and Northern Ireland"
   ]
  },
  {
   "cell_type": "markdown",
   "id": "0bd638b3",
   "metadata": {},
   "source": [
    "# Question 3D: Visualizing relationship between more than 2 variables"
   ]
  },
  {
   "cell_type": "code",
   "execution_count": 86,
   "id": "64acc967",
   "metadata": {
    "scrolled": false
   },
   "outputs": [
    {
     "data": {
      "image/png": "[encoded data removed]",
      "text/plain": [
       "<Figure size 1200x800 with 1 Axes>"
      ]
     },
     "metadata": {},
     "output_type": "display_data"
    }
   ],
   "source": [
    "\n",
    "# Set the style for the plot (optional)\n",
    "sns.set(style=\"whitegrid\")\n",
    "\n",
    "# Plot a bar graph\n",
    "plt.figure(figsize=(12, 8))\n",
    "sns.barplot(x='year', y='FirstDose', hue='areaName', data=df,\n",
    "            palette='viridis')\n",
    "\n",
    "# Customize the plot\n",
    "plt.title('Bar Graph: First Dose vs Year by Area')\n",
    "plt.xlabel('Year')\n",
    "plt.ylabel('First Dose Count')\n",
    "plt.legend(title='Area Name', loc='upper right')\n",
    "\n",
    "# Show the plot\n",
    "plt.show()\n",
    "\n",
    "\n",
    "\n",
    "\n"
   ]
  },
  {
   "cell_type": "markdown",
   "id": "e4078e86",
   "metadata": {},
   "source": [
    "# The graphical representation demonstrates that the preeminent count of first doses is observed in England for the years 2021 and 2022, with a noticeable decline. Scotland consistently secures the second-highest position in the count of first doses for both years. In 2021, the counts for the first dose in Wales and Northern Ireland are approximately equivalent, but in 2022, Wales surpasses Northern Ireland in first dose count.\n",
    "\n",
    "# Conclusively, the data indicates a decline in the count of first doses from 2021 to 2022 across England, Northern Ireland, Scotland, and Wales. This suggests a potential shift in vaccination preferences, with a notable inclination towards vaccination in the year 2021."
   ]
  },
  {
   "cell_type": "markdown",
   "id": "a2c9cb1d",
   "metadata": {},
   "source": [
    "# Question 4: Display unique values of a categorical variable and their frequencies."
   ]
  },
  {
   "cell_type": "code",
   "execution_count": 87,
   "id": "374492c0",
   "metadata": {},
   "outputs": [
    {
     "name": "stdout",
     "output_type": "stream",
     "text": [
      "England             235\n",
      "Northern Ireland    233\n",
      "Scotland            218\n",
      "Wales               204\n",
      "Name: areaName, dtype: int64\n"
     ]
    }
   ],
   "source": [
    "\n",
    "# Displaying unique values of a categorical variable\n",
    "\n",
    "categorical_variable_counts = df['areaName'].value_counts()\n",
    "\n",
    "# Display the unique values and their frequencies\n",
    "print(categorical_variable_counts)\n"
   ]
  },
  {
   "cell_type": "markdown",
   "id": "340d8ead",
   "metadata": {},
   "source": [
    "It can be seen that there are 235 unique values for England, 233 for Northern Ireland, 218 unique values for Scotland and 204 for Wales"
   ]
  },
  {
   "cell_type": "markdown",
   "id": "6850d2c0",
   "metadata": {},
   "source": [
    "# Question 5:  Build a contingency table of two potentially related categorical variables. Conduct a statistical test of the independence between them and interpret the results."
   ]
  },
  {
   "cell_type": "code",
   "execution_count": 24,
   "id": "bbc50295",
   "metadata": {},
   "outputs": [
    {
     "name": "stdout",
     "output_type": "stream",
     "text": [
      "Contingency Table:\n",
      "day               Fri  Mon  Sat  Sun  Thu  Tue  Wed\n",
      "areaName                                           \n",
      "England            34   34   34   34   33   33   33\n",
      "Northern Ireland   33   34   34   33   33   33   33\n",
      "Scotland           32   31   32   31   30   31   31\n",
      "Wales              29   30   29   29   29   29   29\n",
      "\n",
      "Chi-squared test statistics: 0.097956372463341\n",
      "P-value: 1.0\n",
      "\n",
      "Fail to reject the null hypothesis: The variables are independent.\n"
     ]
    }
   ],
   "source": [
    "\n",
    "from scipy.stats import chi2_contingency\n",
    "\n",
    "\n",
    "crosstab_result = pd.crosstab(df['areaName'], df['day'])\n",
    "\n",
    "# Display the contingency table\n",
    "print(\"Contingency Table:\")\n",
    "print(crosstab_result)\n",
    "\n",
    "# Perform the chi-squared test\n",
    "chi2, p, _, _ = chi2_contingency(crosstab_result)\n",
    "\n",
    "# Display the test statistics and p-value\n",
    "print(\"\\nChi-squared test statistics:\", chi2)\n",
    "print(\"P-value:\", p)\n",
    "\n",
    "# Interpret the results\n",
    "alpha = 0.05\n",
    "if p < alpha:\n",
    "    print(\"\\nReject the null hypothesis: The variables are dependent.\")\n",
    "else:\n",
    "    print(\"\\nFail to reject the null hypothesis:The variables are independent.\")\n"
   ]
  },
  {
   "cell_type": "markdown",
   "id": "ce43b2ca",
   "metadata": {},
   "source": [
    "# The above chi square test was performed to check whether there is any association between the countries and the day of the week. It was believed that the there might be a significant association between the country and the day of the week. The significance level for the test was 5% or 0.05.\n",
    "\n",
    "#The null hypothesis (a claim made some other person) for this test is \"There is no significant association between country and day of the week\"\n",
    "#The alternative hypothesis being \"There is significant relationship between country and day of the week\"\n",
    "\n",
    "# Since the p-value is greater than the significance level we fail to reject the null hypothesis and we conclude that there is no associaiton between the  country and day of the week"
   ]
  },
  {
   "cell_type": "markdown",
   "id": "f1c60b00",
   "metadata": {},
   "source": [
    "# Question 6: Retrieve one or more subset of rows based on two or more criteria and present descriptive statistics on the subset(s)"
   ]
  },
  {
   "cell_type": "code",
   "execution_count": 90,
   "id": "c6e7568c",
   "metadata": {},
   "outputs": [
    {
     "name": "stdout",
     "output_type": "stream",
     "text": [
      "Descriptive Statistics for the Subset:\n",
      "           FirstDose    SecondDose      ThirdDose\n",
      "count     135.000000    135.000000     135.000000\n",
      "mean    24394.577778  24135.400000  225679.118519\n",
      "std     11892.141211   8054.742555  181359.166106\n",
      "min     10058.000000  10085.000000   10344.000000\n",
      "25%     16652.000000  18888.500000   86369.000000\n",
      "50%     21775.000000  23489.000000  199008.000000\n",
      "75%     30627.000000  27417.000000  316754.500000\n",
      "max    115551.000000  48491.000000  830403.000000\n"
     ]
    }
   ],
   "source": [
    "# Define criteria for the subset\n",
    "dose_criteria = (df['FirstDose'] > 10000) & (df['SecondDose'] > 10000)\n",
    "country_criteria = df['areaName'] == 'England'\n",
    "\n",
    "# Specify columns to include in the subset\n",
    "subset_columns = ['areaName', 'Quarter', 'day', 'WorkingDay', 'FirstDose',\n",
    "                  +'SecondDose', 'ThirdDose']\n",
    "\n",
    "# Apply criteria to filter the subset and select columns\n",
    "subset = df.loc[dose_criteria & country_criteria, subset_columns]\n",
    "\n",
    "# Display descriptive statistics on the subset\n",
    "subset_statistics = subset.describe()\n",
    "print(\"Descriptive Statistics for the Subset:\")\n",
    "print(subset_statistics)\n",
    "\n"
   ]
  },
  {
   "cell_type": "markdown",
   "id": "fc7cdcf0",
   "metadata": {},
   "source": [
    "# The above descriptive analytics is for the data where the number of FirstDose and SecondDose is higher than 10,000 in England. The standard deviaiton has been the highest for the third dose and lowest for the second dose indicating higher volatility for the third dose over the second dose. The range is highest for the first dose and lowest for the third dose"
   ]
  },
  {
   "cell_type": "markdown",
   "id": "8571c285",
   "metadata": {},
   "source": [
    "# Question 7: Conduct a statistical test of the significance of the difference between the means of two subsets of the data and interpret the results"
   ]
  },
  {
   "cell_type": "code",
   "execution_count": 91,
   "id": "80ad489f",
   "metadata": {},
   "outputs": [
    {
     "name": "stdout",
     "output_type": "stream",
     "text": [
      "T-statistic: 18.763998727738976\n",
      "P-value: 9.917617413006553e-49\n",
      "\n",
      "Reject the null hypothesis: There is a significant difference between the means.\n"
     ]
    }
   ],
   "source": [
    "\n",
    "from scipy.stats import ttest_ind\n",
    "\n",
    "# Perform the t-test for England and Scotland\n",
    "t_stat, p_value = ttest_ind(df.loc[df['areaName'] == 'England', 'FirstDose'],\n",
    "                            df.loc[df['areaName'] == 'Scotland', 'FirstDose'],\n",
    "                            equal_var=False)\n",
    "\n",
    "# Display the test statistics and p-value\n",
    "print(\"T-statistic:\", t_stat)\n",
    "print(\"P-value:\", p_value)\n",
    "\n",
    "# Interpret the results\n",
    "alpha = 0.05\n",
    "if p_value < alpha:\n",
    "    print(\"\\nReject the null hypothesis: There is a significant difference between the means.\")\n",
    "else:\n",
    "    print(\"\\nFail to reject the null hypothesis: There is no significant difference between the means.\")\n"
   ]
  },
  {
   "cell_type": "markdown",
   "id": "ec52457b",
   "metadata": {},
   "source": [
    "# The hypothesis test aimed to investigate whether the mean of the first dose in England differs from that in Scotland. The test was conducted at a significance level of 5% (α = 0.05) with the null hypothesis stating 'There is no difference between the means' and the alternative hypothesis proposing 'There is a significant difference between the means.' Given the obtained p-value exceeding the significance level, we reject the null hypothesis. Consequently, we infer that there is a significant difference in the means of the first dose between the two subsets."
   ]
  },
  {
   "cell_type": "markdown",
   "id": "42245239",
   "metadata": {},
   "source": [
    "# Question 8: Table 1"
   ]
  },
  {
   "cell_type": "code",
   "execution_count": 31,
   "id": "dd004835",
   "metadata": {},
   "outputs": [
    {
     "name": "stdout",
     "output_type": "stream",
     "text": [
      "Table Grouped by 'areaName' and Mean:\n",
      "                     FirstDose    SecondDose      ThirdDose\n",
      "areaName                                                   \n",
      "England           16819.131915  18418.595745  136510.710638\n",
      "Northern Ireland    494.060086    573.733906    4812.077253\n",
      "Scotland           1162.582569   1578.766055   14989.770642\n",
      "Wales               663.504902    866.392157    8181.338235\n"
     ]
    }
   ],
   "source": [
    "\n",
    "# Group by 'areaName' and calculate the mean for relevant columns\n",
    "area_mean_table = df.groupby('areaName')[['FirstDose', 'SecondDose',\n",
    "                                          'ThirdDose']].mean()\n",
    "\n",
    "# Display the table\n",
    "print(\"Table Grouped by 'areaName' and Mean:\")\n",
    "print(area_mean_table)\n",
    "\n"
   ]
  },
  {
   "cell_type": "markdown",
   "id": "43f4f40b",
   "metadata": {},
   "source": [
    "# The mean counts for the First and Second doses exhibit the highest values in England, succeeded by Scotland, Wales, and Northern Ireland. Notably, Scotland records the highest count for the Third Dose, followed by England, Wales, and Northern Ireland. The Third Dose count for Scotland, Wales, and Northern Ireland is approximately eight times that of the Second Dose. This suggests an uneven availability of the vaccine across the four countries for the initial two doses, while the distribution appears to have been more equitable for the third dose."
   ]
  },
  {
   "cell_type": "markdown",
   "id": "77f26420",
   "metadata": {},
   "source": [
    "# Question 8: Table 2"
   ]
  },
  {
   "cell_type": "code",
   "execution_count": 92,
   "id": "dfcb0192",
   "metadata": {},
   "outputs": [
    {
     "name": "stdout",
     "output_type": "stream",
     "text": [
      "\n",
      "Table Grouped by 'day' and Mean:\n",
      "       FirstDose   SecondDose     ThirdDose\n",
      "day                                        \n",
      "Fri  4946.210938  5571.867188  41768.976562\n",
      "Mon  4453.248062  4946.682171  37776.085271\n",
      "Sat  5515.364341  6728.480620  47488.899225\n",
      "Sun  3611.031496  4267.913386  29193.220472\n",
      "Thu  5386.264000  5940.584000  48641.760000\n",
      "Tue  5238.706349  5672.269841  45649.976190\n",
      "Wed  5915.738095  6066.396825  49624.809524\n"
     ]
    }
   ],
   "source": [
    "\n",
    "# Group by 'day' and calculate the mean for each group, excluding 'year' and 'month'\n",
    "day_mean_table = df.groupby('day').mean(numeric_only=True).\n",
    "drop(['year', 'month'], axis=1)\n",
    "\n",
    "# Display the table\n",
    "print(\"\\nTable Grouped by 'day' and Mean:\")\n",
    "print(day_mean_table)\n",
    "\n"
   ]
  },
  {
   "cell_type": "markdown",
   "id": "4ac4c6ea",
   "metadata": {},
   "source": [
    "# Following conclusions can be drawn\n",
    "# 1) Wednesdays consistently exhibit the highest mean counts for all doses, suggesting heightened vaccination activity on this day.\n",
    "# 2) Mondays demonstrate notable vaccination activity, ranking second in mean counts for all doses, indicating an increased emphasis on vaccination at the start of the week\n",
    "# 3) Sundays consistently demonstrate lower mean counts across all doses, indicating a comparatively lower vaccination activity on Sundays\n",
    "# 4) Saturdays reveal a preference for the Second Dose, having the highest mean count for this particular dose\n",
    "# 5) Fridays stand out with the highest mean count for the Third Dose, emphasizing a particular focus on third-dose vaccinations towards the end of the week."
   ]
  },
  {
   "cell_type": "code",
   "execution_count": 93,
   "id": "2e38588c",
   "metadata": {
    "scrolled": true
   },
   "outputs": [
    {
     "name": "stdout",
     "output_type": "stream",
     "text": [
      "                            OLS Regression Results                            \n",
      "==============================================================================\n",
      "Dep. Variable:              ThirdDose   R-squared:                       0.703\n",
      "Model:                            OLS   Adj. R-squared:                  0.701\n",
      "Method:                 Least Squares   F-statistic:                     418.6\n",
      "Date:                Tue, 12 Dec 2023   Prob (F-statistic):          3.35e-230\n",
      "Time:                        22:46:58   Log-Likelihood:                -11014.\n",
      "No. Observations:                 890   AIC:                         2.204e+04\n",
      "Df Residuals:                     884   BIC:                         2.207e+04\n",
      "Df Model:                           5                                         \n",
      "Covariance Type:            nonrobust                                         \n",
      "=============================================================================================\n",
      "                                coef    std err          t      P>|t|      [0.025      0.975]\n",
      "---------------------------------------------------------------------------------------------\n",
      "const                     -1.055e+05   8078.841    -13.055      0.000   -1.21e+05   -8.96e+04\n",
      "FirstDose                     5.1882      0.364     14.261      0.000       4.474       5.902\n",
      "SecondDose                    8.4000      0.477     17.598      0.000       7.463       9.337\n",
      "areaName_Scotland          1.012e+05   8499.231     11.903      0.000    8.45e+04    1.18e+05\n",
      "areaName_Wales             1.029e+05   8767.968     11.739      0.000    8.57e+04     1.2e+05\n",
      "areaName_Northern Ireland  1.029e+05   8738.190     11.776      0.000    8.57e+04     1.2e+05\n",
      "==============================================================================\n",
      "Omnibus:                      369.025   Durbin-Watson:                   0.408\n",
      "Prob(Omnibus):                  0.000   Jarque-Bera (JB):             9868.074\n",
      "Skew:                           1.293   Prob(JB):                         0.00\n",
      "Kurtosis:                      19.106   Cond. No.                     1.23e+05\n",
      "==============================================================================\n",
      "\n",
      "Notes:\n",
      "[1] Standard Errors assume that the covariance matrix of the errors is correctly specified.\n",
      "[2] The condition number is large, 1.23e+05. This might indicate that there are\n",
      "strong multicollinearity or other numerical problems.\n"
     ]
    }
   ],
   "source": [
    "#Question 9\n",
    "\n",
    "import pandas as pd\n",
    "import statsmodels.api as sm\n",
    "\n",
    "# Assuming df is your original DataFrame\n",
    "# Create dummy variables for 'areaName' using one-hot encoding\n",
    "df_with_dummies = pd.get_dummies(df, columns=['areaName'], drop_first=True)\n",
    "\n",
    "# Selecting the independent variables (features)\n",
    "X = df_with_dummies[['FirstDose', 'SecondDose', 'areaName_Scotland', \n",
    "                     'areaName_Wales', 'areaName_Northern Ireland']]\n",
    "\n",
    "# Adding a constant to the features (required for the statsmodels OLS model)\n",
    "X = sm.add_constant(X)\n",
    "\n",
    "# Selecting the dependent variable\n",
    "y = df_with_dummies['ThirdDose']\n",
    "\n",
    "# Fit the linear regression model\n",
    "model = sm.OLS(y, X).fit()\n",
    "\n",
    "# Print the model summary\n",
    "print(model.summary())\n",
    "\n",
    "\n",
    "\n"
   ]
  },
  {
   "cell_type": "markdown",
   "id": "0a46fc36",
   "metadata": {},
   "source": [
    "# Following conclusions can be drawn from the above Regression Model\n",
    "\n",
    "# 1) The adjusted R-squared value of 0.701 indicates that the model can accurately explain 70.1% of the variability in the dependent variable.\n",
    "\n",
    "# 2) All coefficients exhibit p-values below 0.05, signifying their statistical significance for predicting the data. This implies that the model is parsimonious.\n",
    "\n",
    "# 3) The probability of the Jarque-Bera test being less than 0.05 suggests that the standardized residuals do not follow a normal distribution.\n",
    "\n",
    "# 4) A skewness value of 1.293 indicates rightward skewness in the standardized residuals.\n",
    "\n",
    "# 5) The notes indicate the possibility of multicollinearity in the model.\n",
    "\n",
    "# Considering points 3, 4, and 5, it can be inferred that the model violates linear regression assumptions, rendering it inadequate."
   ]
  },
  {
   "cell_type": "code",
   "execution_count": 117,
   "id": "d694b902",
   "metadata": {},
   "outputs": [
    {
     "data": {
      "application/javascript": [
       "var nb = IPython.notebook;\n",
       "var kernel = IPython.notebook.kernel;\n",
       "var command = \"NOTEBOOK_FULL_PATH = '\" + nb.notebook_path + \"'\";\n",
       "kernel.execute(command);\n"
      ],
      "text/plain": [
       "<IPython.core.display.Javascript object>"
      ]
     },
     "metadata": {},
     "output_type": "display_data"
    }
   ],
   "source": [
    "%%javascript\n",
    "var nb = IPython.notebook;\n",
    "var kernel = IPython.notebook.kernel;\n",
    "var command = \"NOTEBOOK_FULL_PATH = '\" + nb.notebook_path + \"'\";\n",
    "kernel.execute(command);"
   ]
  },
  {
   "cell_type": "code",
   "execution_count": 118,
   "id": "edefbd15",
   "metadata": {},
   "outputs": [
    {
     "name": "stdout",
     "output_type": "stream",
     "text": [
      "Word count: 1356\n"
     ]
    }
   ],
   "source": [
    "import io\n",
    "from nbformat import read, NO_CONVERT\n",
    "\n",
    "with io.open(NOTEBOOK_FULL_PATH.split(\"/\")[-1], 'r', encoding='utf-8') as f:\n",
    "    nb = read(f, NO_CONVERT)\n",
    "\n",
    "word_count = 0\n",
    "for cell in nb.cells:\n",
    "    if cell.cell_type == \"markdown\":\n",
    "        word_count += len(cell['source'].replace('#', '').lstrip().split(' '))\n",
    "print(f\"Word count: {word_count}\")"
   ]
  },
  {
   "cell_type": "code",
   "execution_count": null,
   "id": "9d50785a",
   "metadata": {},
   "outputs": [],
   "source": []
  }
 ],
 "metadata": {
  "kernelspec": {
   "display_name": "Python 3 (ipykernel)",
   "language": "python",
   "name": "python3"
  },
  "language_info": {
   "codemirror_mode": {
    "name": "ipython",
    "version": 3
   },
   "file_extension": ".py",
   "mimetype": "text/x-python",
   "name": "python",
   "nbconvert_exporter": "python",
   "pygments_lexer": "ipython3",
   "version": "3.11.5"
  }
 },
 "nbformat": 4,
 "nbformat_minor": 5
}
